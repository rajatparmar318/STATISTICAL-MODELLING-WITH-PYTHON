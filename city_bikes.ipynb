{
 "cells": [
  {
   "cell_type": "markdown",
   "metadata": {},
   "source": [
    "# CityBikes"
   ]
  },
  {
   "cell_type": "markdown",
   "metadata": {},
   "source": [
    "Send a request to CityBikes for the city of your choice. "
   ]
  },
  {
   "cell_type": "code",
   "execution_count": 2,
   "metadata": {},
   "outputs": [],
   "source": [
    "# Define the base URL and network ID for any city\n",
    "base_url = \"https://api.citybik.es/v2/networks\"\n",
    "network_id = \"bixi-toronto\"  # Network ID for city (toronto in this case)\n",
    "\n",
    "# Build the URL to get stations\n",
    "stations_url = f\"{base_url}/{network_id}\""
   ]
  },
  {
   "cell_type": "markdown",
   "metadata": {},
   "source": [
    "Parse through the response to get the details you want for the bike stations in that city (latitude, longitude, number of bikes). "
   ]
  },
  {
   "cell_type": "code",
   "execution_count": 5,
   "metadata": {},
   "outputs": [],
   "source": [
    "import requests\n",
    "import pandas as pd\n",
    "\n",
    "# Define the base URL and network ID for Toronto\n",
    "base_url = \"https://api.citybik.es/v2/networks\"\n",
    "network_id = \"bixi-toronto\"  # Network ID for Toronto\n",
    "\n",
    "# Build the URL to get stations\n",
    "stations_url = f\"{base_url}/{network_id}\"\n",
    "\n",
    "# Fetch data from the API\n",
    "response = requests.get(stations_url)\n",
    "data = response.json()\n",
    "\n",
    "# Extract the stations data\n",
    "stations = data['network']['stations']\n",
    "\n",
    "# Create a DataFrame\n",
    "df = pd.DataFrame(stations)\n",
    "\n",
    "# Select and rename columns as needed\n",
    "df = df[['name', 'latitude', 'longitude', 'free_bikes']]\n",
    "df.columns = ['Station Name', 'Latitude', 'Longitude', 'Number of Bikes']\n"
   ]
  },
  {
   "cell_type": "markdown",
   "metadata": {},
   "source": [
    "Put your parsed results into a DataFrame."
   ]
  },
  {
   "cell_type": "code",
   "execution_count": 1,
   "metadata": {},
   "outputs": [
    {
     "name": "stdout",
     "output_type": "stream",
     "text": [
      "                     Station Name   Latitude  Longitude  Number of Bikes\n",
      "0       Queen St E / Woodward Ave  43.665269 -79.319796               15\n",
      "1     Primrose Ave / Davenport Rd  43.671420 -79.445947                0\n",
      "2         Queen St E / Rhodes Ave  43.666224 -79.317693               14\n",
      "3            Bond St / Queen St E  43.653236 -79.376716               14\n",
      "4        Church St / Alexander St  43.663722 -79.380288               14\n",
      "..                            ...        ...        ...              ...\n",
      "824                  165 McRae Dr  43.705875 -79.368006                2\n",
      "825        Albany Ave / Dupont St  43.673489 -79.413395                0\n",
      "826  Sixth St / Lake Shore Blvd W  43.601162 -79.504160                3\n",
      "827  Gordonridge Pl / Danforth Rd  43.727291 -79.252379                0\n",
      "828      McCowan Rd / Trudelle St  43.740339 -79.239353                6\n",
      "\n",
      "[829 rows x 4 columns]\n"
     ]
    }
   ],
   "source": [
    "import requests\n",
    "import pandas as pd\n",
    "\n",
    "# Define the base URL and network ID for Toronto\n",
    "base_url = \"https://api.citybik.es/v2/networks\"\n",
    "network_id = \"bixi-toronto\"  # Network ID for Toronto\n",
    "\n",
    "# Build the URL to get stations\n",
    "stations_url = f\"{base_url}/{network_id}\"\n",
    "\n",
    "# Fetch data from the API\n",
    "response = requests.get(stations_url)\n",
    "data = response.json()\n",
    "\n",
    "# Extract the stations data\n",
    "stations = data['network']['stations']\n",
    "\n",
    "# Create a DataFrame\n",
    "df = pd.DataFrame(stations)\n",
    "\n",
    "# Select and rename columns as needed\n",
    "df = df[['name', 'latitude', 'longitude', 'free_bikes']]\n",
    "df.columns = ['Station Name', 'Latitude', 'Longitude', 'Number of Bikes']\n",
    "\n",
    "# Display the DataFrame\n",
    "print(df)\n"
   ]
  }
 ],
 "metadata": {
  "kernelspec": {
   "display_name": "Python 3",
   "language": "python",
   "name": "python3"
  },
  "language_info": {
   "codemirror_mode": {
    "name": "ipython",
    "version": 3
   },
   "file_extension": ".py",
   "mimetype": "text/x-python",
   "name": "python",
   "nbconvert_exporter": "python",
   "pygments_lexer": "ipython3",
   "version": "3.12.4"
  }
 },
 "nbformat": 4,
 "nbformat_minor": 4
}
